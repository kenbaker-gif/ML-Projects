{
 "cells": [
  {
   "cell_type": "markdown",
   "id": "0b958b6d",
   "metadata": {},
   "source": [
    "### The notebooks are use to evaluate the performance of our Model created on new unseen data."
   ]
  },
  {
   "cell_type": "code",
   "execution_count": 1,
   "id": "c437ee2a",
   "metadata": {},
   "outputs": [
    {
     "name": "stdout",
     "output_type": "stream",
     "text": [
      "R2-score: 0.6861759772077816\n",
      "MSE: 28.243654507881192\n"
     ]
    }
   ],
   "source": [
    "import pandas as pd\n",
    "import joblib\n",
    "from sklearn.metrics import mean_squared_error, r2_score\n",
    "from sklearn.model_selection import train_test_split\n",
    "\n",
    "# Load original labeled data (with target)\n",
    "data = pd.read_csv('/home/kenbaker-gif/ML-Projects/data/train.csv')\n",
    "\n",
    "# Prepare features and target\n",
    "X = data[['rm', 'lstat', 'crim']]\n",
    "y = data['medv']\n",
    "\n",
    "# Split into train/test sets\n",
    "X_train, X_test, y_train, y_test = train_test_split(X, y, test_size=0.2, random_state=42)\n",
    "\n",
    "# Load scaler and model\n",
    "scaler = joblib.load('scaler.pkl')\n",
    "model = joblib.load('sgd_regressor_lr_model.pkl')\n",
    "\n",
    "# Preprocess test features same way\n",
    "X_test_scaled = scaler.transform(X_test.values)\n",
    "\n",
    "# Predict on test data\n",
    "y_pred = model.predict(X_test_scaled)\n",
    "\n",
    "# Evaluate\n",
    "print('R2-score:', r2_score(y_test, y_pred))\n",
    "print('MSE:', mean_squared_error(y_test, y_pred))\n"
   ]
  },
  {
   "cell_type": "code",
   "execution_count": 2,
   "id": "8e635bd4",
   "metadata": {},
   "outputs": [
    {
     "name": "stdout",
     "output_type": "stream",
     "text": [
      "R2: 0.8540893259337793\n",
      "MSE: 13.131724686567187\n"
     ]
    }
   ],
   "source": [
    "from sklearn.ensemble import RandomForestRegressor\n",
    "from sklearn.metrics import mean_squared_error, r2_score\n",
    "from sklearn.model_selection import train_test_split\n",
    "import pandas as pd\n",
    "\n",
    "# Load your data\n",
    "data = pd.read_csv('/home/kenbaker-gif/ML-Projects/data/train.csv')\n",
    "\n",
    "# Select features and target\n",
    "X = data[['rm', 'lstat', 'crim']]\n",
    "y = data['medv']\n",
    "\n",
    "# Split into train and test sets\n",
    "X_train, X_test, y_train, y_test = train_test_split(\n",
    "    X, y, test_size=0.2, random_state=42\n",
    ")\n",
    "\n",
    "# Initialize the Random Forest model with default params (100 trees)\n",
    "rf = RandomForestRegressor(random_state=42)\n",
    "\n",
    "# Train the model\n",
    "rf.fit(X_train, y_train)\n",
    "\n",
    "# Predict on the test set\n",
    "y_pred = rf.predict(X_test)\n",
    "\n",
    "# Evaluate\n",
    "print(\"R2:\", r2_score(y_test, y_pred))\n",
    "print(\"MSE:\", mean_squared_error(y_test, y_pred))"
   ]
  },
  {
   "cell_type": "code",
   "execution_count": 46,
   "id": "ec1e18d8",
   "metadata": {},
   "outputs": [
    {
     "name": "stdout",
     "output_type": "stream",
     "text": [
      "Fitting 3 folds for each of 12 candidates, totalling 36 fits\n",
      "Best parameters: {'max_depth': 10, 'min_samples_split': 2, 'n_estimators': 100}\n",
      "R2: 0.8576066560420686\n",
      "MSE: 12.815170665352353\n"
     ]
    }
   ],
   "source": [
    "from sklearn.ensemble import RandomForestRegressor\n",
    "from sklearn.model_selection import GridSearchCV\n",
    "from sklearn.metrics import mean_squared_error, r2_score\n",
    "from sklearn.model_selection import train_test_split\n",
    "import pandas as pd\n",
    "\n",
    "# Load data\n",
    "data = pd.read_csv('/home/kenbaker-gif/ML-Projects/data/train.csv')\n",
    "X = data[['rm', 'lstat', 'crim']]\n",
    "y = data['medv']\n",
    "\n",
    "X_train, X_test, y_train, y_test = train_test_split(\n",
    "    X, y, test_size=0.2, random_state=42\n",
    ")\n",
    "\n",
    "# Initialize model\n",
    "rf = RandomForestRegressor(random_state=42)\n",
    "\n",
    "# Minimal param grid to keep runtime short\n",
    "param_grid = {\n",
    "    'n_estimators': [100, 200],\n",
    "    'max_depth': [None, 10, 20],\n",
    "    'min_samples_split': [2, 5],\n",
    "}\n",
    "\n",
    "# GridSearch with 3-fold CV for faster tuning\n",
    "grid_search = GridSearchCV(\n",
    "    estimator=rf,\n",
    "    param_grid=param_grid,\n",
    "    cv=3,\n",
    "    n_jobs=-1,\n",
    "    scoring='r2',\n",
    "    verbose=1\n",
    ")\n",
    "\n",
    "# Fit GridSearch\n",
    "grid_search.fit(X_train, y_train)\n",
    "\n",
    "# Best model and evaluation\n",
    "best_rf = grid_search.best_estimator_\n",
    "y_pred = best_rf.predict(X_test)\n",
    "\n",
    "print(\"Best parameters:\", grid_search.best_params_)\n",
    "print(\"R2:\", r2_score(y_test, y_pred))\n",
    "print(\"MSE:\", mean_squared_error(y_test, y_pred))"
   ]
  },
  {
   "cell_type": "code",
   "execution_count": null,
   "id": "a8ceafe4",
   "metadata": {},
   "outputs": [],
   "source": []
  }
 ],
 "metadata": {
  "kernelspec": {
   "display_name": "global_env",
   "language": "python",
   "name": "python3"
  },
  "language_info": {
   "codemirror_mode": {
    "name": "ipython",
    "version": 3
   },
   "file_extension": ".py",
   "mimetype": "text/x-python",
   "name": "python",
   "nbconvert_exporter": "python",
   "pygments_lexer": "ipython3",
   "version": "3.12.3"
  }
 },
 "nbformat": 4,
 "nbformat_minor": 5
}
